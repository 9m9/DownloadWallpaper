{
 "cells": [
  {
   "cell_type": "code",
   "execution_count": 10,
   "metadata": {},
   "outputs": [],
   "source": [
    "import re\n",
    "import os\n",
    "from os.path import isfile, join"
   ]
  },
  {
   "cell_type": "code",
   "execution_count": 7,
   "metadata": {},
   "outputs": [],
   "source": [
    "def convert_url(resolution, old_url):\n",
    "    \"\"\"\n",
    "    resolution is str\n",
    "    \"\"\"\n",
    "    new_host = re.sub(r'http://', 'https://images.', old_url, 1)\n",
    "    return re.sub(r'\\d+x\\d+', resolution, new_host, 1)"
   ]
  },
  {
   "cell_type": "code",
   "execution_count": 17,
   "metadata": {},
   "outputs": [],
   "source": [
    "def create_new_dir(resolution):\n",
    "    new_dir = 'urls/' + resolution\n",
    "    \n",
    "    if not os.path.isdir(new_dir):\n",
    "        os.makedirs(new_dir)"
   ]
  },
  {
   "cell_type": "code",
   "execution_count": 18,
   "metadata": {},
   "outputs": [],
   "source": [
    "def create_category(old_resolution, new_resolution):\n",
    "    new_dir = 'urls/' + new_resolution\n",
    "    old_dir = 'urls/' + old_resolution\n",
    "    create_new_dir(new_resolution)\n",
    "    \n",
    "    for f in os.listdir(old_dir):\n",
    "        old_file_name = join(old_dir, f)\n",
    "        \n",
    "        if isfile(old_file_name):\n",
    "            new_file_name = join(new_dir, f)\n",
    "            \n",
    "            with open(old_file_name, 'r') as old_f:\n",
    "                lines = [convert_url(new_resolution, line) for line in old_f.readlines()]\n",
    "                \n",
    "                with open(new_file_name, 'w') as new_f:\n",
    "                    new_f.writelines(lines)"
   ]
  },
  {
   "cell_type": "code",
   "execution_count": 19,
   "metadata": {},
   "outputs": [],
   "source": [
    "create_category('1366x768', '1920x1080')"
   ]
  },
  {
   "cell_type": "code",
   "execution_count": 1,
   "metadata": {},
   "outputs": [
    {
     "data": {
      "text/plain": [
       "'lamp_outlet_idea_electricity_120422_1920x1080.jpg'"
      ]
     },
     "execution_count": 1,
     "metadata": {},
     "output_type": "execute_result"
    }
   ],
   "source": [
    "u = '/download/lamp_outlet_idea_electricity_120422/1920x1080'\n",
    "'_'.join(u.split('/')[-2:]) + '.jpg'"
   ]
  },
  {
   "cell_type": "code",
   "execution_count": null,
   "metadata": {},
   "outputs": [],
   "source": [
    "import urllib\n",
    "import ssl\n",
    "\n",
    "proxy = urllib.request.ProxyHandler({'https': '127.0.0.1:1087'})\n",
    "opener = urllib.request.build_opener(proxy)\n",
    "# install the openen on the module-level\n",
    "urllib.request.install_opener(opener)"
   ]
  },
  {
   "cell_type": "code",
   "execution_count": 29,
   "metadata": {},
   "outputs": [
    {
     "name": "stdout",
     "output_type": "stream",
     "text": [
      "Exception\n"
     ]
    }
   ],
   "source": [
    "# make a request\n",
    "try:\n",
    "    u2 = urllib.request.urlretrieve('https://www.gookkkooogllllle.com')\n",
    "    pprint.pprint(u2)\n",
    "except urllib.request.URLError as e:\n",
    "    print(\"Exception\")"
   ]
  },
  {
   "cell_type": "code",
   "execution_count": 14,
   "metadata": {},
   "outputs": [
    {
     "data": {
      "text/plain": [
       "('/Users/abel-abel/Desktop/a.jpg', <http.client.HTTPMessage at 0x10df31b70>)"
      ]
     },
     "execution_count": 14,
     "metadata": {},
     "output_type": "execute_result"
    }
   ],
   "source": [
    "urllib.request.urlretrieve('https://images.wallpaperscraft.com/image/girl_face_makeup_minimalism_vector_graphics_69259_1920x1080.jpg', '/Users/abel-abel/Desktop/a.jpg')"
   ]
  },
  {
   "cell_type": "code",
   "execution_count": 21,
   "metadata": {},
   "outputs": [
    {
     "data": {
      "text/plain": [
       "urllib.error.URLError"
      ]
     },
     "execution_count": 21,
     "metadata": {},
     "output_type": "execute_result"
    }
   ],
   "source": [
    "urllib.request.URLError"
   ]
  },
  {
   "cell_type": "code",
   "execution_count": 28,
   "metadata": {},
   "outputs": [
    {
     "ename": "NameError",
     "evalue": "name 'u2' is not defined",
     "output_type": "error",
     "traceback": [
      "\u001b[0;31m---------------------------------------------------------------------------\u001b[0m",
      "\u001b[0;31mNameError\u001b[0m                                 Traceback (most recent call last)",
      "\u001b[0;32m<ipython-input-28-dc221e34b493>\u001b[0m in \u001b[0;36m<module>\u001b[0;34m\u001b[0m\n\u001b[1;32m      1\u001b[0m \u001b[0;32mimport\u001b[0m \u001b[0mpprint\u001b[0m\u001b[0;34m\u001b[0m\u001b[0m\n\u001b[0;32m----> 2\u001b[0;31m \u001b[0mpprint\u001b[0m\u001b[0;34m.\u001b[0m\u001b[0mpprint\u001b[0m\u001b[0;34m(\u001b[0m\u001b[0mu2\u001b[0m\u001b[0;34m)\u001b[0m\u001b[0;34m\u001b[0m\u001b[0m\n\u001b[0m",
      "\u001b[0;31mNameError\u001b[0m: name 'u2' is not defined"
     ]
    }
   ],
   "source": [
    "import pprint\n",
    "pprint.pprint(u2)"
   ]
  },
  {
   "cell_type": "code",
   "execution_count": null,
   "metadata": {},
   "outputs": [],
   "source": []
  }
 ],
 "metadata": {
  "kernelspec": {
   "display_name": "Python 3",
   "language": "python",
   "name": "python3"
  },
  "language_info": {
   "codemirror_mode": {
    "name": "ipython",
    "version": 3
   },
   "file_extension": ".py",
   "mimetype": "text/x-python",
   "name": "python",
   "nbconvert_exporter": "python",
   "pygments_lexer": "ipython3",
   "version": "3.6.5"
  }
 },
 "nbformat": 4,
 "nbformat_minor": 2
}
