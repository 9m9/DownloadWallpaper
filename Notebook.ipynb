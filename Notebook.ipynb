{
 "cells": [
  {
   "cell_type": "code",
   "execution_count": 10,
   "metadata": {},
   "outputs": [],
   "source": [
    "import re\n",
    "import os\n",
    "from os.path import isfile, join"
   ]
  },
  {
   "cell_type": "code",
   "execution_count": 7,
   "metadata": {},
   "outputs": [],
   "source": [
    "def convert_url(resolution, old_url):\n",
    "    \"\"\"\n",
    "    resolution is str\n",
    "    \"\"\"\n",
    "    new_host = re.sub(r'http://', 'https://images.', old_url, 1)\n",
    "    return re.sub(r'\\d+x\\d+', resolution, new_host, 1)"
   ]
  },
  {
   "cell_type": "code",
   "execution_count": 17,
   "metadata": {},
   "outputs": [],
   "source": [
    "def create_new_dir(resolution):\n",
    "    new_dir = 'urls/' + resolution\n",
    "    \n",
    "    if not os.path.isdir(new_dir):\n",
    "        os.makedirs(new_dir)"
   ]
  },
  {
   "cell_type": "code",
   "execution_count": 18,
   "metadata": {},
   "outputs": [],
   "source": [
    "def create_category(old_resolution, new_resolution):\n",
    "    new_dir = 'urls/' + new_resolution\n",
    "    old_dir = 'urls/' + old_resolution\n",
    "    create_new_dir(new_resolution)\n",
    "    \n",
    "    for f in os.listdir(old_dir):\n",
    "        old_file_name = join(old_dir, f)\n",
    "        \n",
    "        if isfile(old_file_name):\n",
    "            new_file_name = join(new_dir, f)\n",
    "            \n",
    "            with open(old_file_name, 'r') as old_f:\n",
    "                lines = [convert_url(new_resolution, line) for line in old_f.readlines()]\n",
    "                \n",
    "                with open(new_file_name, 'w') as new_f:\n",
    "                    new_f.writelines(lines)"
   ]
  },
  {
   "cell_type": "code",
   "execution_count": 19,
   "metadata": {},
   "outputs": [],
   "source": [
    "create_category('1366x768', '1920x1080')"
   ]
  },
  {
   "cell_type": "code",
   "execution_count": 6,
   "metadata": {},
   "outputs": [
    {
     "data": {
      "text/plain": [
       "'lamp_outlet_idea_electricity_120422_1920x1080'"
      ]
     },
     "execution_count": 6,
     "metadata": {},
     "output_type": "execute_result"
    }
   ],
   "source": [
    "u = '/download/lamp_outlet_idea_electricity_120422/1920x1080'\n",
    "'_'.join(u.split('/')[-2:]) + '.jpg'"
   ]
  }
 ],
 "metadata": {
  "kernelspec": {
   "display_name": "Python 2",
   "language": "python",
   "name": "python2"
  },
  "language_info": {
   "codemirror_mode": {
    "name": "ipython",
    "version": 2
   },
   "file_extension": ".py",
   "mimetype": "text/x-python",
   "name": "python",
   "nbconvert_exporter": "python",
   "pygments_lexer": "ipython2",
   "version": "2.7.15"
  }
 },
 "nbformat": 4,
 "nbformat_minor": 2
}
